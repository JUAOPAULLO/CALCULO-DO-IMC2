{
  "nbformat": 4,
  "nbformat_minor": 0,
  "metadata": {
    "colab": {
      "provenance": [],
      "authorship_tag": "ABX9TyNG/lMikCNg4mmwuJ2ifSJ1",
      "include_colab_link": true
    },
    "kernelspec": {
      "name": "python3",
      "display_name": "Python 3"
    },
    "language_info": {
      "name": "python"
    }
  },
  "cells": [
    {
      "cell_type": "markdown",
      "metadata": {
        "id": "view-in-github",
        "colab_type": "text"
      },
      "source": [
        "<a href=\"https://colab.research.google.com/github/JUAOPAULLO/CALCULO-DO-IMC2/blob/main/CALCULO_IMC_.ipynb\" target=\"_parent\"><img src=\"https://colab.research.google.com/assets/colab-badge.svg\" alt=\"Open In Colab\"/></a>"
      ]
    },
    {
      "cell_type": "code",
      "execution_count": null,
      "metadata": {
        "id": "8rZ2Q10maGrF"
      },
      "outputs": [],
      "source": [
        "nome = 'João Paulo'\n",
        "idade = 29\n",
        "altura = 1.80\n",
        "peso = 140\n",
        "imc = peso/altura**2\n",
        "\n",
        "nome = input('Digite seu nome ')\n",
        "idade = input('Sua idade  ')\n",
        "altura = float(input('Digite sua altura '))\n",
        "peso = float(input('Digite seu peso '))\n",
        "imc = peso/altura**2\n",
        "print(f\"'Seu imc é  {imc:.2f}\")\n",
        "\n",
        "if (imc > 40.0 ):\n",
        "  print('Obesidade grau III')\n",
        "  print('Obrigado pelas informações')\n",
        "elif (imc > 35.0 and imc < 39.9):\n",
        "  print('Obesidade grau II')\n",
        "  print('Obrigado pelas informações')\n",
        "elif (imc > 30.0 and imc <34.9):\n",
        "  print('Obesidade grau I')\n",
        "  print('Obrigado pelas informações')\n",
        "elif (imc > 25.0 and imc < 29.9):\n",
        "  print('Sobrepeso')\n",
        "  print('Obrigado pelas informações')\n",
        "elif (imc > 18.6 and imc <24.9):\n",
        "  print('Normal')\n",
        "  print('Obrigado pelas informações')\n",
        "elif (imc < 18.5):\n",
        "  print('Abaixo do Normal')\n",
        "  print('Obrigado pelas informações')\n",
        "else:\n",
        "  print('Obrigado pelas informações')"
      ]
    }
  ]
}